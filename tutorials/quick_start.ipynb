{
 "cells": [
  {
   "cell_type": "markdown",
   "metadata": {},
   "source": [
    "<img src=\"../artworks/matchzoo-logo.png\" alt=\"logo\" style=\"width:600px;float: center\"/>"
   ]
  },
  {
   "cell_type": "markdown",
   "metadata": {},
   "source": [
    "# MatchZoo Quick Start"
   ]
  },
  {
   "cell_type": "code",
   "execution_count": 66,
   "metadata": {
    "ExecuteTime": {
     "end_time": "2019-04-03T09:55:20.074291Z",
     "start_time": "2019-04-03T09:55:17.600013Z"
    }
   },
   "outputs": [
    {
     "name": "stdout",
     "output_type": "stream",
     "text": [
      "2.2.0\n"
     ]
    }
   ],
   "source": [
    "import matchzoo as mz\n",
    "print(mz.__version__)\n",
    "import pandas as pd"
   ]
  },
  {
   "cell_type": "markdown",
   "metadata": {},
   "source": [
    "## Define Task"
   ]
  },
  {
   "cell_type": "markdown",
   "metadata": {},
   "source": [
    "There are two types of tasks available in MatchZoo. `mz.tasks.Ranking` and `mz.tasks.Classification`. We will use a ranking task for this demo."
   ]
  },
  {
   "cell_type": "code",
   "execution_count": 2,
   "metadata": {
    "ExecuteTime": {
     "end_time": "2019-04-03T09:55:20.084876Z",
     "start_time": "2019-04-03T09:55:20.076831Z"
    }
   },
   "outputs": [],
   "source": [
    "#task = mz.tasks.Ranking()\n",
    "#print(task)"
   ]
  },
  {
   "cell_type": "markdown",
   "metadata": {},
   "source": [
    "## Prepare Data"
   ]
  },
  {
   "cell_type": "markdown",
   "metadata": {},
   "source": [
    "`DataPack` is a MatchZoo native data structure that most MatchZoo data handling processes build upon. A `DataPack` is consists of three `pandas.DataFrame`:"
   ]
  },
  {
   "cell_type": "markdown",
   "metadata": {},
   "source": [
    "It is also possible to convert a `DataPack` into a single `pandas.DataFrame` that holds all information."
   ]
  },
  {
   "cell_type": "code",
   "execution_count": 67,
   "metadata": {},
   "outputs": [],
   "source": [
    "import pickle\n",
    "with open('/home/deepti-saravanan/Desktop/Ranking_Attention/matchzoo/datasets/trainquery.pkl','rb') as f:\n",
    "    querydata = pickle.load(f)\n",
    "with open('/home/deepti-saravanan/Desktop/Ranking_Attention/matchzoo/datasets/finaltrain.pkl','rb') as f:\n",
    "    ansdata = pickle.load(f)"
   ]
  },
  {
   "cell_type": "code",
   "execution_count": 68,
   "metadata": {},
   "outputs": [],
   "source": [
    "with open('/home/deepti-saravanan/Desktop/QnA_deploy/tfidf_regs.pkl','rb') as f:\n",
    "    tfidf = pickle.load(f)"
   ]
  },
  {
   "cell_type": "code",
   "execution_count": 4,
   "metadata": {},
   "outputs": [],
   "source": [
    "vocab = list(tfidf.keys())"
   ]
  },
  {
   "cell_type": "code",
   "execution_count": 37,
   "metadata": {},
   "outputs": [],
   "source": [
    "idl = []\n",
    "idr = []\n",
    "text_left = []\n",
    "text_right = []\n",
    "text_freq = []\n",
    "dot_right = []\n",
    "dot_left = []\n",
    "label = []\n",
    "text_freq0 = []\n",
    "t=0\n",
    "while(t<len(querydata)):\n",
    "    f = []\n",
    "    for i in querydata[t].split():\n",
    "        if(i in vocab):\n",
    "            f.append(int(tfidf[i]))\n",
    "        else:\n",
    "            f.append(0)\n",
    "    ans = ansdata[t]\n",
    "    k=0\n",
    "    while(k<len(ans)):\n",
    "        if(type(ans[k]) == str):\n",
    "            idval1 = t+1\n",
    "            idval2 = k+1\n",
    "            idl.append('Q'+ str(idval1))\n",
    "            idr.append('A'+str(idval1)+'-'+str(idval2))\n",
    "            text_left.append(querydata[t])\n",
    "            text_right.append(ans[k])\n",
    "            dot_right.append([1]*30)\n",
    "            dot_left.append([1])\n",
    "            label.append(float(k))\n",
    "            if(len(f) < 30):\n",
    "                padding = len(f)\n",
    "                while(padding < 30):\n",
    "                    f.append(0)\n",
    "                    padding+=1\n",
    "            elif(len(f) > 30):\n",
    "                f0 = f[0:30]\n",
    "                f = f0\n",
    "            else:\n",
    "                lol=0\n",
    "            text_freq.append(f)\n",
    "            #text_freq.append(1)\n",
    "        \n",
    "        k+=1\n",
    "    t+=1"
   ]
  },
  {
   "cell_type": "code",
   "execution_count": 38,
   "metadata": {},
   "outputs": [],
   "source": [
    "with open('text_freq.pkl','wb') as f:\n",
    "    pickle.dump(text_freq,f)"
   ]
  },
  {
   "cell_type": "code",
   "execution_count": 39,
   "metadata": {},
   "outputs": [
    {
     "data": {
      "text/html": [
       "<div>\n",
       "<style scoped>\n",
       "    .dataframe tbody tr th:only-of-type {\n",
       "        vertical-align: middle;\n",
       "    }\n",
       "\n",
       "    .dataframe tbody tr th {\n",
       "        vertical-align: top;\n",
       "    }\n",
       "\n",
       "    .dataframe thead th {\n",
       "        text-align: right;\n",
       "    }\n",
       "</style>\n",
       "<table border=\"1\" class=\"dataframe\">\n",
       "  <thead>\n",
       "    <tr style=\"text-align: right;\">\n",
       "      <th></th>\n",
       "      <th>id_left</th>\n",
       "      <th>text_left</th>\n",
       "      <th>id_right</th>\n",
       "      <th>text_right</th>\n",
       "      <th>text_freq</th>\n",
       "      <th>dot_right</th>\n",
       "      <th>dot_left</th>\n",
       "      <th>label</th>\n",
       "    </tr>\n",
       "  </thead>\n",
       "  <tbody>\n",
       "    <tr>\n",
       "      <th>0</th>\n",
       "      <td>Q1</td>\n",
       "      <td>Who is restrained or prohibited from accessing...</td>\n",
       "      <td>A1-1</td>\n",
       "      <td>(2), (2A) and (3) of section 11 and section 11...</td>\n",
       "      <td>[0, 0, 0, 0, 0, 0, 0, 0, 0, 29, 0, 0, 0, 0, 0,...</td>\n",
       "      <td>[1, 1, 1, 1, 1, 1, 1, 1, 1, 1, 1, 1, 1, 1, 1, ...</td>\n",
       "      <td>[1]</td>\n",
       "      <td>1.0</td>\n",
       "    </tr>\n",
       "    <tr>\n",
       "      <th>1</th>\n",
       "      <td>Q1</td>\n",
       "      <td>Who is restrained or prohibited from accessing...</td>\n",
       "      <td>A1-2</td>\n",
       "      <td>(2)  Dealing in securities shall be deemed to ...</td>\n",
       "      <td>[0, 0, 0, 0, 0, 0, 0, 0, 0, 29, 0, 0, 0, 0, 0,...</td>\n",
       "      <td>[1, 1, 1, 1, 1, 1, 1, 1, 1, 1, 1, 1, 1, 1, 1, ...</td>\n",
       "      <td>[1]</td>\n",
       "      <td>2.0</td>\n",
       "    </tr>\n",
       "    <tr>\n",
       "      <th>2</th>\n",
       "      <td>Q1</td>\n",
       "      <td>Who is restrained or prohibited from accessing...</td>\n",
       "      <td>A1-3</td>\n",
       "      <td>7. The Investigating Authority may, after obta...</td>\n",
       "      <td>[0, 0, 0, 0, 0, 0, 0, 0, 0, 29, 0, 0, 0, 0, 0,...</td>\n",
       "      <td>[1, 1, 1, 1, 1, 1, 1, 1, 1, 1, 1, 1, 1, 1, 1, ...</td>\n",
       "      <td>[1]</td>\n",
       "      <td>3.0</td>\n",
       "    </tr>\n",
       "    <tr>\n",
       "      <th>3</th>\n",
       "      <td>Q1</td>\n",
       "      <td>Who is restrained or prohibited from accessing...</td>\n",
       "      <td>A1-4</td>\n",
       "      <td>3. Prohibition of certain dealings in securiti...</td>\n",
       "      <td>[0, 0, 0, 0, 0, 0, 0, 0, 0, 29, 0, 0, 0, 0, 0,...</td>\n",
       "      <td>[1, 1, 1, 1, 1, 1, 1, 1, 1, 1, 1, 1, 1, 1, 1, ...</td>\n",
       "      <td>[1]</td>\n",
       "      <td>4.0</td>\n",
       "    </tr>\n",
       "    <tr>\n",
       "      <th>4</th>\n",
       "      <td>Q1</td>\n",
       "      <td>Who is restrained or prohibited from accessing...</td>\n",
       "      <td>A1-5</td>\n",
       "      <td>5.  Where  the  Board,  the  Chairman,  the  m...</td>\n",
       "      <td>[0, 0, 0, 0, 0, 0, 0, 0, 0, 29, 0, 0, 0, 0, 0,...</td>\n",
       "      <td>[1, 1, 1, 1, 1, 1, 1, 1, 1, 1, 1, 1, 1, 1, 1, ...</td>\n",
       "      <td>[1]</td>\n",
       "      <td>5.0</td>\n",
       "    </tr>\n",
       "  </tbody>\n",
       "</table>\n",
       "</div>"
      ],
      "text/plain": [
       "  id_left                                          text_left id_right  \\\n",
       "0      Q1  Who is restrained or prohibited from accessing...     A1-1   \n",
       "1      Q1  Who is restrained or prohibited from accessing...     A1-2   \n",
       "2      Q1  Who is restrained or prohibited from accessing...     A1-3   \n",
       "3      Q1  Who is restrained or prohibited from accessing...     A1-4   \n",
       "4      Q1  Who is restrained or prohibited from accessing...     A1-5   \n",
       "\n",
       "                                          text_right  \\\n",
       "0  (2), (2A) and (3) of section 11 and section 11...   \n",
       "1  (2)  Dealing in securities shall be deemed to ...   \n",
       "2  7. The Investigating Authority may, after obta...   \n",
       "3  3. Prohibition of certain dealings in securiti...   \n",
       "4  5.  Where  the  Board,  the  Chairman,  the  m...   \n",
       "\n",
       "                                           text_freq  \\\n",
       "0  [0, 0, 0, 0, 0, 0, 0, 0, 0, 29, 0, 0, 0, 0, 0,...   \n",
       "1  [0, 0, 0, 0, 0, 0, 0, 0, 0, 29, 0, 0, 0, 0, 0,...   \n",
       "2  [0, 0, 0, 0, 0, 0, 0, 0, 0, 29, 0, 0, 0, 0, 0,...   \n",
       "3  [0, 0, 0, 0, 0, 0, 0, 0, 0, 29, 0, 0, 0, 0, 0,...   \n",
       "4  [0, 0, 0, 0, 0, 0, 0, 0, 0, 29, 0, 0, 0, 0, 0,...   \n",
       "\n",
       "                                           dot_right dot_left  label  \n",
       "0  [1, 1, 1, 1, 1, 1, 1, 1, 1, 1, 1, 1, 1, 1, 1, ...      [1]    1.0  \n",
       "1  [1, 1, 1, 1, 1, 1, 1, 1, 1, 1, 1, 1, 1, 1, 1, ...      [1]    2.0  \n",
       "2  [1, 1, 1, 1, 1, 1, 1, 1, 1, 1, 1, 1, 1, 1, 1, ...      [1]    3.0  \n",
       "3  [1, 1, 1, 1, 1, 1, 1, 1, 1, 1, 1, 1, 1, 1, 1, ...      [1]    4.0  \n",
       "4  [1, 1, 1, 1, 1, 1, 1, 1, 1, 1, 1, 1, 1, 1, 1, ...      [1]    5.0  "
      ]
     },
     "execution_count": 39,
     "metadata": {},
     "output_type": "execute_result"
    }
   ],
   "source": [
    "data = pd.DataFrame({\n",
    "    'id_left' : idl,\n",
    "    'text_left': text_left,\n",
    "    'id_right' : idr,\n",
    "    'text_right': text_right,\n",
    "    'text_freq' : text_freq,\n",
    "    'dot_right' : dot_right,\n",
    "    'dot_left' : dot_left,\n",
    "    'label' : label\n",
    "})\n",
    "my_pack = mz.pack(data)\n",
    "my_pack.frame().head()"
   ]
  },
  {
   "cell_type": "code",
   "execution_count": 40,
   "metadata": {},
   "outputs": [],
   "source": [
    "frame = my_pack.frame\n",
    "my_pack.relation['label'] = my_pack.relation['label'] + 1"
   ]
  },
  {
   "cell_type": "code",
   "execution_count": 41,
   "metadata": {},
   "outputs": [],
   "source": [
    "num_train = int(len(my_pack) * 0.8)\n",
    "my_pack.shuffle(inplace=True)\n",
    "train_pack = my_pack[:num_train]\n",
    "valid_pack = my_pack[num_train:]"
   ]
  },
  {
   "cell_type": "markdown",
   "metadata": {},
   "source": [
    "However, using such `pandas.DataFrame` consumes much more memory if there are many duplicates in the texts, and that is the exact reason why we use `DataPack`. For more details about data handling, consult `matchzoo/tutorials/data_handling.ipynb`."
   ]
  },
  {
   "cell_type": "markdown",
   "metadata": {},
   "source": [
    "## Preprocessing"
   ]
  },
  {
   "cell_type": "markdown",
   "metadata": {},
   "source": [
    "MatchZoo preprocessors are used to convert a raw `DataPack` into a `DataPack` that ready to be fed into a model. "
   ]
  },
  {
   "cell_type": "code",
   "execution_count": 42,
   "metadata": {
    "ExecuteTime": {
     "end_time": "2019-04-03T09:55:20.210082Z",
     "start_time": "2019-04-03T09:55:20.207488Z"
    }
   },
   "outputs": [],
   "source": [
    "preprocessor = mz.preprocessors.BasicPreprocessor()"
   ]
  },
  {
   "cell_type": "markdown",
   "metadata": {},
   "source": [
    "There are two steps to use a preprocessor. First, `fit`. Then, `transform`. `fit` will only changes the preprocessor's inner state but not the input `DataPack`."
   ]
  },
  {
   "cell_type": "code",
   "execution_count": 43,
   "metadata": {
    "ExecuteTime": {
     "end_time": "2019-04-03T09:55:20.273214Z",
     "start_time": "2019-04-03T09:55:20.212140Z"
    }
   },
   "outputs": [
    {
     "data": {
      "text/plain": [
       "<matchzoo.preprocessors.basic_preprocessor.BasicPreprocessor at 0x7f0e1a9a92b0>"
      ]
     },
     "execution_count": 43,
     "metadata": {},
     "output_type": "execute_result"
    }
   ],
   "source": [
    "preprocessor.fit(train_pack, verbose=0)"
   ]
  },
  {
   "cell_type": "markdown",
   "metadata": {},
   "source": [
    "`fit` will gather useful information into its `context`, which will be used later in a `transform` or used to set hyper-parameters of a model."
   ]
  },
  {
   "cell_type": "code",
   "execution_count": 44,
   "metadata": {
    "ExecuteTime": {
     "end_time": "2019-04-03T09:55:20.278189Z",
     "start_time": "2019-04-03T09:55:20.274519Z"
    }
   },
   "outputs": [
    {
     "data": {
      "text/plain": [
       "{'filter_unit': <matchzoo.preprocessors.units.frequency_filter.FrequencyFilter at 0x7f0e13063ac8>,\n",
       " 'vocab_unit': <matchzoo.preprocessors.units.vocabulary.Vocabulary at 0x7f0d6a0c1668>,\n",
       " 'vocab_size': 6937,\n",
       " 'embedding_input_dim': 6937,\n",
       " 'input_shapes': [(30,), (30,)]}"
      ]
     },
     "execution_count": 44,
     "metadata": {},
     "output_type": "execute_result"
    }
   ],
   "source": [
    "preprocessor.context"
   ]
  },
  {
   "cell_type": "markdown",
   "metadata": {},
   "source": [
    "Once `fit`, the preprocessor has enough information to `transform`.  `transform` will not change the preprocessor's inner state and the input `DataPack`, but return a transformed `DataPack`."
   ]
  },
  {
   "cell_type": "code",
   "execution_count": 45,
   "metadata": {
    "ExecuteTime": {
     "end_time": "2019-04-03T09:55:20.369369Z",
     "start_time": "2019-04-03T09:55:20.280596Z"
    }
   },
   "outputs": [],
   "source": [
    "# Commenting out for now\n",
    "\n",
    "train_processed = preprocessor.transform(train_pack, verbose=0)\n",
    "test_processed = preprocessor.transform(valid_pack, verbose=0)"
   ]
  },
  {
   "cell_type": "code",
   "execution_count": 15,
   "metadata": {},
   "outputs": [],
   "source": [
    "#train_processed0 = train_processed\n",
    "#test_processed0 = test_processed"
   ]
  },
  {
   "cell_type": "code",
   "execution_count": 46,
   "metadata": {},
   "outputs": [
    {
     "name": "stdout",
     "output_type": "stream",
     "text": [
      "Stored 'train_processed' (DataPack)\n"
     ]
    }
   ],
   "source": [
    "%store train_processed"
   ]
  },
  {
   "cell_type": "code",
   "execution_count": 47,
   "metadata": {},
   "outputs": [
    {
     "name": "stdout",
     "output_type": "stream",
     "text": [
      "Stored 'test_processed' (DataPack)\n"
     ]
    }
   ],
   "source": [
    "%store test_processed"
   ]
  },
  {
   "cell_type": "code",
   "execution_count": 48,
   "metadata": {},
   "outputs": [
    {
     "data": {
      "text/html": [
       "<div>\n",
       "<style scoped>\n",
       "    .dataframe tbody tr th:only-of-type {\n",
       "        vertical-align: middle;\n",
       "    }\n",
       "\n",
       "    .dataframe tbody tr th {\n",
       "        vertical-align: top;\n",
       "    }\n",
       "\n",
       "    .dataframe thead th {\n",
       "        text-align: right;\n",
       "    }\n",
       "</style>\n",
       "<table border=\"1\" class=\"dataframe\">\n",
       "  <thead>\n",
       "    <tr style=\"text-align: right;\">\n",
       "      <th></th>\n",
       "      <th>id_left</th>\n",
       "      <th>text_left</th>\n",
       "      <th>length_left</th>\n",
       "      <th>id_right</th>\n",
       "      <th>text_right</th>\n",
       "      <th>length_right</th>\n",
       "      <th>text_freq</th>\n",
       "      <th>dot_right</th>\n",
       "      <th>dot_left</th>\n",
       "      <th>label</th>\n",
       "    </tr>\n",
       "  </thead>\n",
       "  <tbody>\n",
       "    <tr>\n",
       "      <th>0</th>\n",
       "      <td>Q4626</td>\n",
       "      <td>[2801, 2148, 4614, 6642, 1902, 813, 1277, 2879...</td>\n",
       "      <td>27</td>\n",
       "      <td>A4626-16</td>\n",
       "      <td>[5670, 4155, 2, 5853, 5261, 4984, 2297, 111, 1...</td>\n",
       "      <td>30</td>\n",
       "      <td>[0, 2, 0, 0, 6, 0, 0, 0, 0, 0, 0, 0, 0, 0, 0, ...</td>\n",
       "      <td>[1, 1, 1, 1, 1, 1, 1, 1, 1, 1, 1, 1, 1, 1, 1, ...</td>\n",
       "      <td>[1]</td>\n",
       "      <td>17.0</td>\n",
       "    </tr>\n",
       "    <tr>\n",
       "      <th>1</th>\n",
       "      <td>Q3786</td>\n",
       "      <td>[721, 1604, 5670, 4155, 2046, 6763, 4578, 5670...</td>\n",
       "      <td>21</td>\n",
       "      <td>A3786-6</td>\n",
       "      <td>[1232, 913, 312, 3810, 5670, 5741, 1232, 913, ...</td>\n",
       "      <td>30</td>\n",
       "      <td>[0, 0, 0, 0, 0, 0, 0, 0, 0, 0, 0, 0, 10, 0, 0,...</td>\n",
       "      <td>[1, 1, 1, 1, 1, 1, 1, 1, 1, 1, 1, 1, 1, 1, 1, ...</td>\n",
       "      <td>[1]</td>\n",
       "      <td>7.0</td>\n",
       "    </tr>\n",
       "    <tr>\n",
       "      <th>2</th>\n",
       "      <td>Q7403</td>\n",
       "      <td>[2801, 4614, 5670, 4155, 1232, 3242, 4462, 638...</td>\n",
       "      <td>9</td>\n",
       "      <td>A7403-18</td>\n",
       "      <td>[4155, 2, 2379, 1232, 653, 3046, 5953, 4677, 1...</td>\n",
       "      <td>30</td>\n",
       "      <td>[0, 0, 0, 0, 0, 0, 0, 0, 0, 0, 0, 0, 0, 0, 0, ...</td>\n",
       "      <td>[1, 1, 1, 1, 1, 1, 1, 1, 1, 1, 1, 1, 1, 1, 1, ...</td>\n",
       "      <td>[1]</td>\n",
       "      <td>19.0</td>\n",
       "    </tr>\n",
       "    <tr>\n",
       "      <th>3</th>\n",
       "      <td>Q652</td>\n",
       "      <td>[5670, 6255, 6684, 2459, 6171, 3155, 813, 4383...</td>\n",
       "      <td>22</td>\n",
       "      <td>A652-17</td>\n",
       "      <td>[6171, 1948, 6334, 5465, 5853, 2459, 3176, 171...</td>\n",
       "      <td>30</td>\n",
       "      <td>[0, 0, 0, 54, 0, 0, 0, 0, 0, 50, 0, 0, 0, 0, 0...</td>\n",
       "      <td>[1, 1, 1, 1, 1, 1, 1, 1, 1, 1, 1, 1, 1, 1, 1, ...</td>\n",
       "      <td>[1]</td>\n",
       "      <td>18.0</td>\n",
       "    </tr>\n",
       "    <tr>\n",
       "      <th>4</th>\n",
       "      <td>Q2997</td>\n",
       "      <td>[4720, 1604, 5670, 65, 878, 1232, 391, 4963, 3...</td>\n",
       "      <td>13</td>\n",
       "      <td>A2997-42</td>\n",
       "      <td>[5830, 5737, 5853, 6635, 173, 4401, 5853, 3046...</td>\n",
       "      <td>30</td>\n",
       "      <td>[0, 0, 0, 0, 31, 0, 0, 79, 0, 0, 0, 0, 0, 0, 0...</td>\n",
       "      <td>[1, 1, 1, 1, 1, 1, 1, 1, 1, 1, 1, 1, 1, 1, 1, ...</td>\n",
       "      <td>[1]</td>\n",
       "      <td>43.0</td>\n",
       "    </tr>\n",
       "  </tbody>\n",
       "</table>\n",
       "</div>"
      ],
      "text/plain": [
       "  id_left                                          text_left  length_left  \\\n",
       "0   Q4626  [2801, 2148, 4614, 6642, 1902, 813, 1277, 2879...           27   \n",
       "1   Q3786  [721, 1604, 5670, 4155, 2046, 6763, 4578, 5670...           21   \n",
       "2   Q7403  [2801, 4614, 5670, 4155, 1232, 3242, 4462, 638...            9   \n",
       "3    Q652  [5670, 6255, 6684, 2459, 6171, 3155, 813, 4383...           22   \n",
       "4   Q2997  [4720, 1604, 5670, 65, 878, 1232, 391, 4963, 3...           13   \n",
       "\n",
       "   id_right                                         text_right  length_right  \\\n",
       "0  A4626-16  [5670, 4155, 2, 5853, 5261, 4984, 2297, 111, 1...            30   \n",
       "1   A3786-6  [1232, 913, 312, 3810, 5670, 5741, 1232, 913, ...            30   \n",
       "2  A7403-18  [4155, 2, 2379, 1232, 653, 3046, 5953, 4677, 1...            30   \n",
       "3   A652-17  [6171, 1948, 6334, 5465, 5853, 2459, 3176, 171...            30   \n",
       "4  A2997-42  [5830, 5737, 5853, 6635, 173, 4401, 5853, 3046...            30   \n",
       "\n",
       "                                           text_freq  \\\n",
       "0  [0, 2, 0, 0, 6, 0, 0, 0, 0, 0, 0, 0, 0, 0, 0, ...   \n",
       "1  [0, 0, 0, 0, 0, 0, 0, 0, 0, 0, 0, 0, 10, 0, 0,...   \n",
       "2  [0, 0, 0, 0, 0, 0, 0, 0, 0, 0, 0, 0, 0, 0, 0, ...   \n",
       "3  [0, 0, 0, 54, 0, 0, 0, 0, 0, 50, 0, 0, 0, 0, 0...   \n",
       "4  [0, 0, 0, 0, 31, 0, 0, 79, 0, 0, 0, 0, 0, 0, 0...   \n",
       "\n",
       "                                           dot_right dot_left  label  \n",
       "0  [1, 1, 1, 1, 1, 1, 1, 1, 1, 1, 1, 1, 1, 1, 1, ...      [1]   17.0  \n",
       "1  [1, 1, 1, 1, 1, 1, 1, 1, 1, 1, 1, 1, 1, 1, 1, ...      [1]    7.0  \n",
       "2  [1, 1, 1, 1, 1, 1, 1, 1, 1, 1, 1, 1, 1, 1, 1, ...      [1]   19.0  \n",
       "3  [1, 1, 1, 1, 1, 1, 1, 1, 1, 1, 1, 1, 1, 1, 1, ...      [1]   18.0  \n",
       "4  [1, 1, 1, 1, 1, 1, 1, 1, 1, 1, 1, 1, 1, 1, 1, ...      [1]   43.0  "
      ]
     },
     "execution_count": 48,
     "metadata": {},
     "output_type": "execute_result"
    }
   ],
   "source": [
    "train_processed.frame().head()"
   ]
  },
  {
   "cell_type": "markdown",
   "metadata": {},
   "source": [
    "As we can see, `text_left` is already in sequence form that nerual networks love."
   ]
  },
  {
   "cell_type": "markdown",
   "metadata": {},
   "source": [
    "Just to make sure we have the correct sequence:"
   ]
  },
  {
   "cell_type": "code",
   "execution_count": 49,
   "metadata": {
    "ExecuteTime": {
     "end_time": "2019-04-03T09:55:20.390512Z",
     "start_time": "2019-04-03T09:55:20.385506Z"
    }
   },
   "outputs": [
    {
     "name": "stdout",
     "output_type": "stream",
     "text": [
      "Orig Text: [721, 1604, 4598, 3810, 5250, 449, 6153, 5670, 1467, 4115, 3810, 4488, 5407, 1467, 2, 0, 0, 0, 0, 0, 0, 0, 0, 0, 0, 0, 0, 0, 0, 0]\n",
      "Transformed Indices: [721, 1604, 4598, 3810, 5250, 449, 6153, 5670, 1467, 4115, 3810, 4488, 5407, 1467, 2, 0, 0, 0, 0, 0, 0, 0, 0, 0, 0, 0, 0, 0, 0, 0]\n",
      "Transformed Indices Meaning: who_is_restrained_or_prohibited_from_accessing_the_securities_market_or_dealing_in_securities__<PAD>_<PAD>_<PAD>_<PAD>_<PAD>_<PAD>_<PAD>_<PAD>_<PAD>_<PAD>_<PAD>_<PAD>_<PAD>_<PAD>_<PAD>\n"
     ]
    }
   ],
   "source": [
    "vocab_unit = preprocessor.context['vocab_unit']\n",
    "print('Orig Text:', train_processed.left.loc['Q1']['text_left'])\n",
    "sequence = train_processed.left.loc['Q1']['text_left']\n",
    "print('Transformed Indices:', sequence)\n",
    "print('Transformed Indices Meaning:',\n",
    "      '_'.join([vocab_unit.state['index_term'][i] for i in sequence]))"
   ]
  },
  {
   "cell_type": "markdown",
   "metadata": {},
   "source": [
    "For more details about preprocessing, consult `matchzoo/tutorials/data_handling.ipynb`."
   ]
  },
  {
   "cell_type": "markdown",
   "metadata": {},
   "source": [
    "## Build Model"
   ]
  },
  {
   "cell_type": "markdown",
   "metadata": {},
   "source": [
    "MatchZoo provides many built-in text matching models."
   ]
  },
  {
   "cell_type": "markdown",
   "metadata": {},
   "source": [
    "Let's use `mz.models.DenseBaseline` for our demo."
   ]
  },
  {
   "cell_type": "code",
   "execution_count": 50,
   "metadata": {
    "ExecuteTime": {
     "end_time": "2019-04-03T09:55:20.403308Z",
     "start_time": "2019-04-03T09:55:20.399279Z"
    }
   },
   "outputs": [],
   "source": [
    "model = mz.models.ANMM()"
   ]
  },
  {
   "cell_type": "markdown",
   "metadata": {},
   "source": [
    "The model is initialized with a hyper parameter table, in which values are partially filled. To view parameters and their values, use `print`."
   ]
  },
  {
   "cell_type": "markdown",
   "metadata": {},
   "source": [
    "`to_frame` gives you more informartion in addition to just names and values."
   ]
  },
  {
   "cell_type": "markdown",
   "metadata": {},
   "source": [
    "To set a hyper-parameter:"
   ]
  },
  {
   "cell_type": "code",
   "execution_count": 51,
   "metadata": {},
   "outputs": [],
   "source": [
    "model.params['task'] = mz.tasks.Ranking()\n",
    "model.params['task'].metrics = ['acc', 'mse', 'mae', 'ce','average_precision', 'precision', 'dcg', 'ndcg','mean_reciprocal_rank', 'mean_average_precision', 'mrr','map', 'MAP',mz.metrics.AveragePrecision(threshold=1),mz.metrics.Precision(k=2, threshold=2),mz.metrics.DiscountedCumulativeGain(k=2),mz.metrics.NormalizedDiscountedCumulativeGain(k=3, threshold=-1),mz.metrics.MeanReciprocalRank(threshold=2),mz.metrics.MeanAveragePrecision(threshold=3)]"
   ]
  },
  {
   "cell_type": "code",
   "execution_count": 51,
   "metadata": {},
   "outputs": [
    {
     "name": "stdout",
     "output_type": "stream",
     "text": [
      "`ranking_task` initialized with metrics [normalized_discounted_cumulative_gain@3(0.0), normalized_discounted_cumulative_gain@5(0.0), mean_average_precision(0.0)]\n"
     ]
    }
   ],
   "source": [
    "'''\n",
    "ranking_task = mz.tasks.Ranking(loss=mz.losses.RankHingeLoss())\n",
    "ranking_task.metrics = [\n",
    "    mz.metrics.NormalizedDiscountedCumulativeGain(k=3),\n",
    "    mz.metrics.NormalizedDiscountedCumulativeGain(k=5),\n",
    "    mz.metrics.MeanAveragePrecision()\n",
    "]\n",
    "print(\"`ranking_task` initialized with metrics\", ranking_task.metrics)\n",
    "'''"
   ]
  },
  {
   "cell_type": "code",
   "execution_count": 22,
   "metadata": {
    "ExecuteTime": {
     "end_time": "2019-04-03T09:55:20.444053Z",
     "start_time": "2019-04-03T09:55:20.439641Z"
    }
   },
   "outputs": [
    {
     "data": {
      "text/plain": [
       "\"\\nnum_neg = 4\\ntask = mz.tasks.Ranking()\\ntask.metrics = ['map', 'ndcg']\\n#task.output_dtype\\n#task = mz.tasks.Ranking(loss=mz.losses.RankHingeLoss(num_neg=num_neg))\\nmodel.params['task'] = task\\n#model.params['mlp_num_units'] = 3\\n\""
      ]
     },
     "execution_count": 22,
     "metadata": {},
     "output_type": "execute_result"
    }
   ],
   "source": [
    "'''\n",
    "num_neg = 4\n",
    "task = mz.tasks.Ranking()\n",
    "task.metrics = ['map', 'ndcg']\n",
    "#task.output_dtype\n",
    "#task = mz.tasks.Ranking(loss=mz.losses.RankHingeLoss(num_neg=num_neg))\n",
    "model.params['task'] = task\n",
    "#model.params['mlp_num_units'] = 3\n",
    "'''"
   ]
  },
  {
   "cell_type": "code",
   "execution_count": 52,
   "metadata": {},
   "outputs": [
    {
     "name": "stdout",
     "output_type": "stream",
     "text": [
      "model_class                   <class 'matchzoo.models.anmm.ANMM'>\n",
      "input_shapes                  [(30,), (30,)]\n",
      "task                          Ranking Task\n",
      "optimizer                     adam\n",
      "with_embedding                True\n",
      "embedding_input_dim           300\n",
      "embedding_output_dim          300\n",
      "embedding_trainable           True\n",
      "dropout_rate                  0.1\n",
      "num_layers                    2\n",
      "hidden_sizes                  [30, 30]\n"
     ]
    }
   ],
   "source": [
    "model.guess_and_fill_missing_params(verbose=0)\n",
    "print(model.params)"
   ]
  },
  {
   "cell_type": "markdown",
   "metadata": {},
   "source": [
    "Notice that we are still missing `input_shapes`, and that information is store in the preprocessor."
   ]
  },
  {
   "cell_type": "markdown",
   "metadata": {},
   "source": [
    "We may use `update` to load a preprocessor's context into a model's hyper-parameter table."
   ]
  },
  {
   "cell_type": "code",
   "execution_count": 53,
   "metadata": {
    "ExecuteTime": {
     "end_time": "2019-04-03T09:55:20.453045Z",
     "start_time": "2019-04-03T09:55:20.450104Z"
    }
   },
   "outputs": [],
   "source": [
    "model.params.update(preprocessor.context)"
   ]
  },
  {
   "cell_type": "markdown",
   "metadata": {},
   "source": [
    "Now we have a completed hyper-parameter table."
   ]
  },
  {
   "cell_type": "code",
   "execution_count": 54,
   "metadata": {
    "ExecuteTime": {
     "end_time": "2019-04-03T09:55:20.458269Z",
     "start_time": "2019-04-03T09:55:20.454854Z"
    }
   },
   "outputs": [
    {
     "data": {
      "text/plain": [
       "True"
      ]
     },
     "execution_count": 54,
     "metadata": {},
     "output_type": "execute_result"
    }
   ],
   "source": [
    "model.params.completed()"
   ]
  },
  {
   "cell_type": "markdown",
   "metadata": {},
   "source": [
    "With all parameters filled in, we can now build and compile the model."
   ]
  },
  {
   "cell_type": "code",
   "execution_count": 55,
   "metadata": {
    "ExecuteTime": {
     "end_time": "2019-04-03T09:55:20.563119Z",
     "start_time": "2019-04-03T09:55:20.459804Z"
    }
   },
   "outputs": [],
   "source": [
    "model.build()\n",
    "model.compile()"
   ]
  },
  {
   "cell_type": "markdown",
   "metadata": {},
   "source": [
    "MatchZoo models are wrapped over keras models, and the `backend` property of a model gives you the actual keras model built."
   ]
  },
  {
   "cell_type": "code",
   "execution_count": 56,
   "metadata": {
    "ExecuteTime": {
     "end_time": "2019-04-03T09:55:20.571750Z",
     "start_time": "2019-04-03T09:55:20.564862Z"
    }
   },
   "outputs": [
    {
     "name": "stdout",
     "output_type": "stream",
     "text": [
      "Model: \"model_1\"\n",
      "__________________________________________________________________________________________________\n",
      "Layer (type)                    Output Shape         Param #     Connected to                     \n",
      "==================================================================================================\n",
      "text_right (InputLayer)         [(None, 30)]         0                                            \n",
      "__________________________________________________________________________________________________\n",
      "text_freq (InputLayer)          [(None, 30)]         0                                            \n",
      "__________________________________________________________________________________________________\n",
      "dropout_4 (Dropout)             (None, 30)           0           text_right[0][0]                 \n",
      "__________________________________________________________________________________________________\n",
      "dropout_5 (Dropout)             (None, 30)           0           text_freq[0][0]                  \n",
      "__________________________________________________________________________________________________\n",
      "concatenate_2 (Concatenate)     (None, 60)           0           dropout_4[0][0]                  \n",
      "                                                                 dropout_5[0][0]                  \n",
      "__________________________________________________________________________________________________\n",
      "dense_4 (Dense)                 (None, 30)           1830        concatenate_2[0][0]              \n",
      "__________________________________________________________________________________________________\n",
      "activation_1 (Activation)       (None, 30)           0           dense_4[0][0]                    \n",
      "__________________________________________________________________________________________________\n",
      "dense_5 (Dense)                 (None, 30)           930         activation_1[0][0]               \n",
      "__________________________________________________________________________________________________\n",
      "dot_right (InputLayer)          [(None, 30)]         0                                            \n",
      "__________________________________________________________________________________________________\n",
      "text_left (InputLayer)          [(None, 1)]          0                                            \n",
      "__________________________________________________________________________________________________\n",
      "dot_2 (Dot)                     (None, 1)            0           dense_5[0][0]                    \n",
      "                                                                 dot_right[0][0]                  \n",
      "__________________________________________________________________________________________________\n",
      "dropout_6 (Dropout)             (None, 1)            0           text_left[0][0]                  \n",
      "__________________________________________________________________________________________________\n",
      "dropout_7 (Dropout)             (None, 1)            0           dot_2[0][0]                      \n",
      "__________________________________________________________________________________________________\n",
      "concatenate_3 (Concatenate)     (None, 2)            0           dropout_6[0][0]                  \n",
      "                                                                 dropout_7[0][0]                  \n",
      "__________________________________________________________________________________________________\n",
      "dense_6 (Dense)                 (None, 1)            2           concatenate_3[0][0]              \n",
      "__________________________________________________________________________________________________\n",
      "lambda_1 (Lambda)               (None, 1)            0           dense_6[0][0]                    \n",
      "__________________________________________________________________________________________________\n",
      "dot_left (InputLayer)           [(None, 1)]          0                                            \n",
      "__________________________________________________________________________________________________\n",
      "dot_3 (Dot)                     (None, 1)            0           lambda_1[0][0]                   \n",
      "                                                                 dot_left[0][0]                   \n",
      "__________________________________________________________________________________________________\n",
      "dense_7 (Dense)                 (None, 1)            2           dot_3[0][0]                      \n",
      "==================================================================================================\n",
      "Total params: 2,764\n",
      "Trainable params: 2,764\n",
      "Non-trainable params: 0\n",
      "__________________________________________________________________________________________________\n"
     ]
    }
   ],
   "source": [
    "model.backend.summary()"
   ]
  },
  {
   "cell_type": "markdown",
   "metadata": {
    "ExecuteTime": {
     "end_time": "2018-12-10T13:28:54.044570Z",
     "start_time": "2018-12-10T13:28:54.038325Z"
    }
   },
   "source": [
    "For more details about models, consult `matchzoo/tutorials/models.ipynb`."
   ]
  },
  {
   "cell_type": "markdown",
   "metadata": {},
   "source": [
    "## Train, Evaluate, Predict"
   ]
  },
  {
   "cell_type": "markdown",
   "metadata": {},
   "source": [
    "A `DataPack` can `unpack` itself into data that can be directly used to train a MatchZoo model."
   ]
  },
  {
   "cell_type": "code",
   "execution_count": 57,
   "metadata": {
    "ExecuteTime": {
     "end_time": "2019-04-03T09:55:20.605059Z",
     "start_time": "2019-04-03T09:55:20.574058Z"
    }
   },
   "outputs": [],
   "source": [
    "x, y = train_processed.unpack()\n",
    "test_x, test_y = test_processed.unpack()"
   ]
  },
  {
   "cell_type": "code",
   "execution_count": 58,
   "metadata": {},
   "outputs": [],
   "source": [
    "import numpy as np\n",
    "ids = test_x['id_left']\n",
    "idnew = []\n",
    "for i in ids:\n",
    "    i = i.replace('Q','')\n",
    "    idnew.append(i)\n",
    "    \n",
    "t=0\n",
    "finlist = []\n",
    "while(t<len(idnew)):\n",
    "    sums = 0\n",
    "    k = test_x['text_left'][t]\n",
    "    for i in k:\n",
    "        sums = sums + i\n",
    "    avgs = int(sums/len(k))\n",
    "    finlist.append([avgs])\n",
    "    t+=1\n",
    "\n",
    "test_x['text_left'] = np.array(finlist)   "
   ]
  },
  {
   "cell_type": "code",
   "execution_count": 59,
   "metadata": {},
   "outputs": [],
   "source": [
    "ids = x['id_left']\n",
    "idnew = []\n",
    "for i in ids:\n",
    "    i = i.replace('Q','')\n",
    "    idnew.append(i)\n",
    "    \n",
    "t=0\n",
    "finlist = []\n",
    "while(t<len(idnew)):\n",
    "    sums = 0\n",
    "    k = x['text_left'][t]\n",
    "    for i in k:\n",
    "        sums = sums + i\n",
    "    avgs = int(sums/len(k))\n",
    "    finlist.append([avgs])\n",
    "    t+=1\n",
    "\n",
    "x['text_left'] = np.array(finlist)   "
   ]
  },
  {
   "cell_type": "code",
   "execution_count": 60,
   "metadata": {},
   "outputs": [],
   "source": [
    "evaluate = mz.callbacks.EvaluateAllMetrics(model, x=test_x, y=test_y, batch_size=len(test_x))"
   ]
  },
  {
   "cell_type": "code",
   "execution_count": null,
   "metadata": {},
   "outputs": [],
   "source": [
    "#glove_embedding = mz.datasets.embeddings.load_glove_embedding(dimension=300)"
   ]
  },
  {
   "cell_type": "code",
   "execution_count": 61,
   "metadata": {},
   "outputs": [
    {
     "name": "stdout",
     "output_type": "stream",
     "text": [
      "Epoch 1/30\n",
      "1168/1168 [==============================] - 5s 4ms/step - loss: 825.6197\n",
      "Validation: binary_accuracy: 0.0 - mse: 741.1356811523438 - mae: 22.90125846862793 - binary_crossentropy: -359.378173828125 - average_precision(0.0): 1.0 - precision@1(0.0): 1.0 - discounted_cumulative_gain@1(0.0): 83394097430627.56 - normalized_discounted_cumulative_gain@1(0.0): 0.3529405352942191 - mean_reciprocal_rank(0.0): 1.0 - mean_average_precision(0.0): 1.0 - average_precision(1): 1.0 - precision@2(2): 0.8017591339648173 - discounted_cumulative_gain@2(0.0): 132424274323746.2 - normalized_discounted_cumulative_gain@3(-1): 0.4662995140052866 - mean_reciprocal_rank(2): 0.8486371544558283 - mean_average_precision(3): 0.7927522529304661\n",
      "Epoch 2/30\n",
      "1168/1168 [==============================] - 4s 4ms/step - loss: 716.7698\n",
      "Validation: binary_accuracy: 0.0 - mse: 644.694580078125 - mae: 20.87962532043457 - binary_crossentropy: -359.378173828125 - average_precision(0.0): 1.0 - precision@1(0.0): 1.0 - discounted_cumulative_gain@1(0.0): 83394097430627.56 - normalized_discounted_cumulative_gain@1(0.0): 0.3529405352942191 - mean_reciprocal_rank(0.0): 1.0 - mean_average_precision(0.0): 1.0 - average_precision(1): 1.0 - precision@2(2): 0.8017591339648173 - discounted_cumulative_gain@2(0.0): 132424274323746.2 - normalized_discounted_cumulative_gain@3(-1): 0.4662995140052866 - mean_reciprocal_rank(2): 0.8486371544558283 - mean_average_precision(3): 0.7927522529304661\n",
      "Epoch 3/30\n",
      "1168/1168 [==============================] - 4s 4ms/step - loss: 623.7854\n",
      "Validation: binary_accuracy: 0.0 - mse: 560.07666015625 - mae: 19.16497802734375 - binary_crossentropy: -359.378173828125 - average_precision(0.0): 1.0 - precision@1(0.0): 1.0 - discounted_cumulative_gain@1(0.0): 83394097430627.56 - normalized_discounted_cumulative_gain@1(0.0): 0.3529405352942191 - mean_reciprocal_rank(0.0): 1.0 - mean_average_precision(0.0): 1.0 - average_precision(1): 1.0 - precision@2(2): 0.8017591339648173 - discounted_cumulative_gain@2(0.0): 132424274323746.2 - normalized_discounted_cumulative_gain@3(-1): 0.4662995140052866 - mean_reciprocal_rank(2): 0.8486371544558283 - mean_average_precision(3): 0.7927522529304661\n",
      "Epoch 4/30\n",
      "1168/1168 [==============================] - 5s 4ms/step - loss: 544.7601\n",
      "Validation: binary_accuracy: 0.0 - mse: 486.08990478515625 - mae: 17.693668365478516 - binary_crossentropy: -359.378173828125 - average_precision(0.0): 1.0 - precision@1(0.0): 1.0 - discounted_cumulative_gain@1(0.0): 83394097430627.56 - normalized_discounted_cumulative_gain@1(0.0): 0.3529405352942191 - mean_reciprocal_rank(0.0): 1.0 - mean_average_precision(0.0): 1.0 - average_precision(1): 1.0 - precision@2(2): 0.8017591339648173 - discounted_cumulative_gain@2(0.0): 132424274323746.2 - normalized_discounted_cumulative_gain@3(-1): 0.4662995140052866 - mean_reciprocal_rank(2): 0.8486371544558283 - mean_average_precision(3): 0.7927522529304661\n",
      "Epoch 5/30\n",
      "1168/1168 [==============================] - 5s 4ms/step - loss: 472.2459\n",
      "Validation: binary_accuracy: 0.0 - mse: 422.1001892089844 - mae: 16.445653915405273 - binary_crossentropy: -359.378173828125 - average_precision(0.0): 1.0 - precision@1(0.0): 1.0 - discounted_cumulative_gain@1(0.0): 83394097430627.56 - normalized_discounted_cumulative_gain@1(0.0): 0.3529405352942191 - mean_reciprocal_rank(0.0): 1.0 - mean_average_precision(0.0): 1.0 - average_precision(1): 1.0 - precision@2(2): 0.8017591339648173 - discounted_cumulative_gain@2(0.0): 132424274323746.2 - normalized_discounted_cumulative_gain@3(-1): 0.4662995140052866 - mean_reciprocal_rank(2): 0.8486371544558283 - mean_average_precision(3): 0.7927522529304661\n",
      "Epoch 6/30\n",
      "1168/1168 [==============================] - 5s 4ms/step - loss: 409.2247\n",
      "Validation: binary_accuracy: 0.0 - mse: 367.6220703125 - mae: 15.401571273803711 - binary_crossentropy: -359.378173828125 - average_precision(0.0): 1.0 - precision@1(0.0): 1.0 - discounted_cumulative_gain@1(0.0): 83394097430627.56 - normalized_discounted_cumulative_gain@1(0.0): 0.3529405352942191 - mean_reciprocal_rank(0.0): 1.0 - mean_average_precision(0.0): 1.0 - average_precision(1): 1.0 - precision@2(2): 0.8017591339648173 - discounted_cumulative_gain@2(0.0): 132424274323746.2 - normalized_discounted_cumulative_gain@3(-1): 0.4662995140052866 - mean_reciprocal_rank(2): 0.8486371544558283 - mean_average_precision(3): 0.7927522529304661\n",
      "Epoch 7/30\n",
      "1168/1168 [==============================] - 5s 4ms/step - loss: 357.0473\n",
      "Validation: binary_accuracy: 0.0 - mse: 322.4598693847656 - mae: 14.549077987670898 - binary_crossentropy: -359.378173828125 - average_precision(0.0): 1.0 - precision@1(0.0): 1.0 - discounted_cumulative_gain@1(0.0): 83394097430627.56 - normalized_discounted_cumulative_gain@1(0.0): 0.3529405352942191 - mean_reciprocal_rank(0.0): 1.0 - mean_average_precision(0.0): 1.0 - average_precision(1): 1.0 - precision@2(2): 0.8017591339648173 - discounted_cumulative_gain@2(0.0): 132424274323746.2 - normalized_discounted_cumulative_gain@3(-1): 0.4662995140052866 - mean_reciprocal_rank(2): 0.8486371544558283 - mean_average_precision(3): 0.7927522529304661\n",
      "Epoch 8/30\n",
      "1168/1168 [==============================] - 5s 4ms/step - loss: 316.0432\n",
      "Validation: binary_accuracy: 0.0 - mse: 286.3841552734375 - mae: 13.885588645935059 - binary_crossentropy: -359.378173828125 - average_precision(0.0): 1.0 - precision@1(0.0): 1.0 - discounted_cumulative_gain@1(0.0): 83394097430627.56 - normalized_discounted_cumulative_gain@1(0.0): 0.3529405352942191 - mean_reciprocal_rank(0.0): 1.0 - mean_average_precision(0.0): 1.0 - average_precision(1): 1.0 - precision@2(2): 0.8017591339648173 - discounted_cumulative_gain@2(0.0): 132424274323746.2 - normalized_discounted_cumulative_gain@3(-1): 0.4662995140052866 - mean_reciprocal_rank(2): 0.8486371544558283 - mean_average_precision(3): 0.7927522529304661\n",
      "Epoch 9/30\n",
      "1168/1168 [==============================] - 5s 4ms/step - loss: 281.7182\n",
      "Validation: binary_accuracy: 0.0 - mse: 258.7110595703125 - mae: 13.392706871032715 - binary_crossentropy: -359.378173828125 - average_precision(0.0): 1.0 - precision@1(0.0): 1.0 - discounted_cumulative_gain@1(0.0): 83394097430627.56 - normalized_discounted_cumulative_gain@1(0.0): 0.3529405352942191 - mean_reciprocal_rank(0.0): 1.0 - mean_average_precision(0.0): 1.0 - average_precision(1): 1.0 - precision@2(2): 0.8017591339648173 - discounted_cumulative_gain@2(0.0): 132424274323746.2 - normalized_discounted_cumulative_gain@3(-1): 0.4662995140052866 - mean_reciprocal_rank(2): 0.8486371544558283 - mean_average_precision(3): 0.7927522529304661\n",
      "Epoch 10/30\n",
      "1168/1168 [==============================] - 5s 4ms/step - loss: 254.4998\n",
      "Validation: binary_accuracy: 0.0 - mse: 239.03280639648438 - mae: 13.061017990112305 - binary_crossentropy: -359.378173828125 - average_precision(0.0): 1.0 - precision@1(0.0): 1.0 - discounted_cumulative_gain@1(0.0): 83394097430627.56 - normalized_discounted_cumulative_gain@1(0.0): 0.3529405352942191 - mean_reciprocal_rank(0.0): 1.0 - mean_average_precision(0.0): 1.0 - average_precision(1): 1.0 - precision@2(2): 0.8017591339648173 - discounted_cumulative_gain@2(0.0): 132424274323746.2 - normalized_discounted_cumulative_gain@3(-1): 0.4662995140052866 - mean_reciprocal_rank(2): 0.8486371544558283 - mean_average_precision(3): 0.7927522529304661\n",
      "Epoch 11/30\n",
      "1168/1168 [==============================] - 5s 4ms/step - loss: 236.5229\n",
      "Validation: binary_accuracy: 0.0 - mse: 226.51071166992188 - mae: 12.860836029052734 - binary_crossentropy: -359.378173828125 - average_precision(0.0): 1.0 - precision@1(0.0): 1.0 - discounted_cumulative_gain@1(0.0): 83394097430627.56 - normalized_discounted_cumulative_gain@1(0.0): 0.3529405352942191 - mean_reciprocal_rank(0.0): 1.0 - mean_average_precision(0.0): 1.0 - average_precision(1): 1.0 - precision@2(2): 0.8017591339648173 - discounted_cumulative_gain@2(0.0): 132424274323746.2 - normalized_discounted_cumulative_gain@3(-1): 0.4662995140052866 - mean_reciprocal_rank(2): 0.8486371544558283 - mean_average_precision(3): 0.7927522529304661\n",
      "Epoch 12/30\n",
      "1168/1168 [==============================] - 5s 4ms/step - loss: 226.2323\n",
      "Validation: binary_accuracy: 0.0 - mse: 219.89955139160156 - mae: 12.768529891967773 - binary_crossentropy: -359.378173828125 - average_precision(0.0): 1.0 - precision@1(0.0): 1.0 - discounted_cumulative_gain@1(0.0): 83394097430627.56 - normalized_discounted_cumulative_gain@1(0.0): 0.3529405352942191 - mean_reciprocal_rank(0.0): 1.0 - mean_average_precision(0.0): 1.0 - average_precision(1): 1.0 - precision@2(2): 0.8017591339648173 - discounted_cumulative_gain@2(0.0): 132424274323746.2 - normalized_discounted_cumulative_gain@3(-1): 0.4662995140052866 - mean_reciprocal_rank(2): 0.8486371544558283 - mean_average_precision(3): 0.7927522529304661\n",
      "Epoch 13/30\n",
      "1168/1168 [==============================] - 5s 4ms/step - loss: 220.5594\n",
      "Validation: binary_accuracy: 0.0 - mse: 217.30653381347656 - mae: 12.744844436645508 - binary_crossentropy: -359.378173828125 - average_precision(0.0): 1.0 - precision@1(0.0): 1.0 - discounted_cumulative_gain@1(0.0): 83394097430627.56 - normalized_discounted_cumulative_gain@1(0.0): 0.3529405352942191 - mean_reciprocal_rank(0.0): 1.0 - mean_average_precision(0.0): 1.0 - average_precision(1): 1.0 - precision@2(2): 0.8017591339648173 - discounted_cumulative_gain@2(0.0): 132424274323746.2 - normalized_discounted_cumulative_gain@3(-1): 0.4662995140052866 - mean_reciprocal_rank(2): 0.8486371544558283 - mean_average_precision(3): 0.7927522529304661\n",
      "Epoch 14/30\n",
      "1168/1168 [==============================] - 5s 4ms/step - loss: 219.0929\n",
      "Validation: binary_accuracy: 0.0 - mse: 216.7231903076172 - mae: 12.747385025024414 - binary_crossentropy: -359.378173828125 - average_precision(0.0): 1.0 - precision@1(0.0): 1.0 - discounted_cumulative_gain@1(0.0): 83394097430627.56 - normalized_discounted_cumulative_gain@1(0.0): 0.3529405352942191 - mean_reciprocal_rank(0.0): 1.0 - mean_average_precision(0.0): 1.0 - average_precision(1): 1.0 - precision@2(2): 0.8017591339648173 - discounted_cumulative_gain@2(0.0): 132424274323746.2 - normalized_discounted_cumulative_gain@3(-1): 0.4662995140052866 - mean_reciprocal_rank(2): 0.8486371544558283 - mean_average_precision(3): 0.7927522529304661\n",
      "Epoch 15/30\n",
      "1168/1168 [==============================] - 5s 4ms/step - loss: 217.6382\n",
      "Validation: binary_accuracy: 0.0 - mse: 216.6674346923828 - mae: 12.753519058227539 - binary_crossentropy: -359.378173828125 - average_precision(0.0): 1.0 - precision@1(0.0): 1.0 - discounted_cumulative_gain@1(0.0): 83394097430627.56 - normalized_discounted_cumulative_gain@1(0.0): 0.3529405352942191 - mean_reciprocal_rank(0.0): 1.0 - mean_average_precision(0.0): 1.0 - average_precision(1): 1.0 - precision@2(2): 0.8017591339648173 - discounted_cumulative_gain@2(0.0): 132424274323746.2 - normalized_discounted_cumulative_gain@3(-1): 0.4662995140052866 - mean_reciprocal_rank(2): 0.8486371544558283 - mean_average_precision(3): 0.7927522529304661\n",
      "Epoch 16/30\n",
      "1168/1168 [==============================] - 5s 4ms/step - loss: 217.5545\n",
      "Validation: binary_accuracy: 0.0 - mse: 216.66648864746094 - mae: 12.755143165588379 - binary_crossentropy: -359.378173828125 - average_precision(0.0): 1.0 - precision@1(0.0): 1.0 - discounted_cumulative_gain@1(0.0): 83394097430627.56 - normalized_discounted_cumulative_gain@1(0.0): 0.3529405352942191 - mean_reciprocal_rank(0.0): 1.0 - mean_average_precision(0.0): 1.0 - average_precision(1): 1.0 - precision@2(2): 0.8017591339648173 - discounted_cumulative_gain@2(0.0): 132424274323746.2 - normalized_discounted_cumulative_gain@3(-1): 0.4662995140052866 - mean_reciprocal_rank(2): 0.8486371544558283 - mean_average_precision(3): 0.7927522529304661\n",
      "Epoch 17/30\n",
      "1168/1168 [==============================] - 5s 4ms/step - loss: 218.2125\n",
      "Validation: binary_accuracy: 0.0 - mse: 216.66656494140625 - mae: 12.755219459533691 - binary_crossentropy: -359.378173828125 - average_precision(0.0): 1.0 - precision@1(0.0): 1.0 - discounted_cumulative_gain@1(0.0): 83394097430627.56 - normalized_discounted_cumulative_gain@1(0.0): 0.3529405352942191 - mean_reciprocal_rank(0.0): 1.0 - mean_average_precision(0.0): 1.0 - average_precision(1): 1.0 - precision@2(2): 0.8017591339648173 - discounted_cumulative_gain@2(0.0): 132424274323746.2 - normalized_discounted_cumulative_gain@3(-1): 0.4662995140052866 - mean_reciprocal_rank(2): 0.8486371544558283 - mean_average_precision(3): 0.7927522529304661\n",
      "Epoch 18/30\n",
      "1168/1168 [==============================] - 5s 4ms/step - loss: 218.1108\n",
      "Validation: binary_accuracy: 0.0 - mse: 216.66827392578125 - mae: 12.756007194519043 - binary_crossentropy: -359.378173828125 - average_precision(0.0): 1.0 - precision@1(0.0): 1.0 - discounted_cumulative_gain@1(0.0): 83394097430627.56 - normalized_discounted_cumulative_gain@1(0.0): 0.3529405352942191 - mean_reciprocal_rank(0.0): 1.0 - mean_average_precision(0.0): 1.0 - average_precision(1): 1.0 - precision@2(2): 0.8017591339648173 - discounted_cumulative_gain@2(0.0): 132424274323746.2 - normalized_discounted_cumulative_gain@3(-1): 0.4662995140052866 - mean_reciprocal_rank(2): 0.8486371544558283 - mean_average_precision(3): 0.7927522529304661\n",
      "Epoch 19/30\n",
      "1168/1168 [==============================] - 5s 4ms/step - loss: 218.5054\n",
      "Validation: binary_accuracy: 0.0 - mse: 216.66773986816406 - mae: 12.755727767944336 - binary_crossentropy: -359.378173828125 - average_precision(0.0): 1.0 - precision@1(0.0): 1.0 - discounted_cumulative_gain@1(0.0): 83394097430627.56 - normalized_discounted_cumulative_gain@1(0.0): 0.3529405352942191 - mean_reciprocal_rank(0.0): 1.0 - mean_average_precision(0.0): 1.0 - average_precision(1): 1.0 - precision@2(2): 0.8017591339648173 - discounted_cumulative_gain@2(0.0): 132424274323746.2 - normalized_discounted_cumulative_gain@3(-1): 0.4662995140052866 - mean_reciprocal_rank(2): 0.8486371544558283 - mean_average_precision(3): 0.7927522529304661\n",
      "Epoch 20/30\n",
      "1168/1168 [==============================] - 5s 4ms/step - loss: 218.6777\n",
      "Validation: binary_accuracy: 0.0 - mse: 216.6681671142578 - mae: 12.756022453308105 - binary_crossentropy: -359.378173828125 - average_precision(0.0): 1.0 - precision@1(0.0): 1.0 - discounted_cumulative_gain@1(0.0): 83394097430627.56 - normalized_discounted_cumulative_gain@1(0.0): 0.3529405352942191 - mean_reciprocal_rank(0.0): 1.0 - mean_average_precision(0.0): 1.0 - average_precision(1): 1.0 - precision@2(2): 0.8017591339648173 - discounted_cumulative_gain@2(0.0): 132424274323746.2 - normalized_discounted_cumulative_gain@3(-1): 0.4662995140052866 - mean_reciprocal_rank(2): 0.8486371544558283 - mean_average_precision(3): 0.7927522529304661\n",
      "Epoch 21/30\n",
      "1168/1168 [==============================] - 5s 4ms/step - loss: 217.6307\n",
      "Validation: binary_accuracy: 0.0 - mse: 216.6663818359375 - mae: 12.755134582519531 - binary_crossentropy: -359.378173828125 - average_precision(0.0): 1.0 - precision@1(0.0): 1.0 - discounted_cumulative_gain@1(0.0): 83394097430627.56 - normalized_discounted_cumulative_gain@1(0.0): 0.3529405352942191 - mean_reciprocal_rank(0.0): 1.0 - mean_average_precision(0.0): 1.0 - average_precision(1): 1.0 - precision@2(2): 0.8017591339648173 - discounted_cumulative_gain@2(0.0): 132424274323746.2 - normalized_discounted_cumulative_gain@3(-1): 0.4662995140052866 - mean_reciprocal_rank(2): 0.8486371544558283 - mean_average_precision(3): 0.7927522529304661\n",
      "Epoch 22/30\n",
      "1168/1168 [==============================] - 5s 4ms/step - loss: 217.5303\n",
      "Validation: binary_accuracy: 0.0 - mse: 216.66622924804688 - mae: 12.754868507385254 - binary_crossentropy: -359.378173828125 - average_precision(0.0): 1.0 - precision@1(0.0): 1.0 - discounted_cumulative_gain@1(0.0): 83394097430627.56 - normalized_discounted_cumulative_gain@1(0.0): 0.3529405352942191 - mean_reciprocal_rank(0.0): 1.0 - mean_average_precision(0.0): 1.0 - average_precision(1): 1.0 - precision@2(2): 0.8017591339648173 - discounted_cumulative_gain@2(0.0): 132424274323746.2 - normalized_discounted_cumulative_gain@3(-1): 0.4662995140052866 - mean_reciprocal_rank(2): 0.8486371544558283 - mean_average_precision(3): 0.7927522529304661\n",
      "Epoch 23/30\n",
      "1168/1168 [==============================] - 5s 4ms/step - loss: 218.5556\n",
      "Validation: binary_accuracy: 0.0 - mse: 216.66627502441406 - mae: 12.754921913146973 - binary_crossentropy: -359.378173828125 - average_precision(0.0): 1.0 - precision@1(0.0): 1.0 - discounted_cumulative_gain@1(0.0): 83394097430627.56 - normalized_discounted_cumulative_gain@1(0.0): 0.3529405352942191 - mean_reciprocal_rank(0.0): 1.0 - mean_average_precision(0.0): 1.0 - average_precision(1): 1.0 - precision@2(2): 0.8017591339648173 - discounted_cumulative_gain@2(0.0): 132424274323746.2 - normalized_discounted_cumulative_gain@3(-1): 0.4662995140052866 - mean_reciprocal_rank(2): 0.8486371544558283 - mean_average_precision(3): 0.7927522529304661\n",
      "Epoch 24/30\n",
      "1168/1168 [==============================] - 5s 4ms/step - loss: 218.6375\n",
      "Validation: binary_accuracy: 0.0 - mse: 216.66622924804688 - mae: 12.754546165466309 - binary_crossentropy: -359.378173828125 - average_precision(0.0): 1.0 - precision@1(0.0): 1.0 - discounted_cumulative_gain@1(0.0): 83394097430627.56 - normalized_discounted_cumulative_gain@1(0.0): 0.3529405352942191 - mean_reciprocal_rank(0.0): 1.0 - mean_average_precision(0.0): 1.0 - average_precision(1): 1.0 - precision@2(2): 0.8017591339648173 - discounted_cumulative_gain@2(0.0): 132424274323746.2 - normalized_discounted_cumulative_gain@3(-1): 0.4662995140052866 - mean_reciprocal_rank(2): 0.8486371544558283 - mean_average_precision(3): 0.7927522529304661\n",
      "Epoch 25/30\n",
      "1168/1168 [==============================] - 5s 4ms/step - loss: 219.0572\n",
      "Validation: binary_accuracy: 0.0 - mse: 216.6664581298828 - mae: 12.755138397216797 - binary_crossentropy: -359.378173828125 - average_precision(0.0): 1.0 - precision@1(0.0): 1.0 - discounted_cumulative_gain@1(0.0): 83394097430627.56 - normalized_discounted_cumulative_gain@1(0.0): 0.3529405352942191 - mean_reciprocal_rank(0.0): 1.0 - mean_average_precision(0.0): 1.0 - average_precision(1): 1.0 - precision@2(2): 0.8017591339648173 - discounted_cumulative_gain@2(0.0): 132424274323746.2 - normalized_discounted_cumulative_gain@3(-1): 0.4662995140052866 - mean_reciprocal_rank(2): 0.8486371544558283 - mean_average_precision(3): 0.7927522529304661\n",
      "Epoch 26/30\n",
      "1168/1168 [==============================] - 5s 4ms/step - loss: 219.2282\n",
      "Validation: binary_accuracy: 0.0 - mse: 216.66624450683594 - mae: 12.754508018493652 - binary_crossentropy: -359.378173828125 - average_precision(0.0): 1.0 - precision@1(0.0): 1.0 - discounted_cumulative_gain@1(0.0): 83394097430627.56 - normalized_discounted_cumulative_gain@1(0.0): 0.3529405352942191 - mean_reciprocal_rank(0.0): 1.0 - mean_average_precision(0.0): 1.0 - average_precision(1): 1.0 - precision@2(2): 0.8017591339648173 - discounted_cumulative_gain@2(0.0): 132424274323746.2 - normalized_discounted_cumulative_gain@3(-1): 0.4662995140052866 - mean_reciprocal_rank(2): 0.8486371544558283 - mean_average_precision(3): 0.7927522529304661\n",
      "Epoch 27/30\n",
      "1168/1168 [==============================] - 5s 4ms/step - loss: 217.8938\n",
      "Validation: binary_accuracy: 0.0 - mse: 216.6674041748047 - mae: 12.755661010742188 - binary_crossentropy: -359.378173828125 - average_precision(0.0): 1.0 - precision@1(0.0): 1.0 - discounted_cumulative_gain@1(0.0): 83394097430627.56 - normalized_discounted_cumulative_gain@1(0.0): 0.3529405352942191 - mean_reciprocal_rank(0.0): 1.0 - mean_average_precision(0.0): 1.0 - average_precision(1): 1.0 - precision@2(2): 0.8017591339648173 - discounted_cumulative_gain@2(0.0): 132424274323746.2 - normalized_discounted_cumulative_gain@3(-1): 0.4662995140052866 - mean_reciprocal_rank(2): 0.8486371544558283 - mean_average_precision(3): 0.7927522529304661\n",
      "Epoch 28/30\n",
      "1168/1168 [==============================] - 5s 4ms/step - loss: 218.5966\n",
      "Validation: binary_accuracy: 0.0 - mse: 216.66627502441406 - mae: 12.754886627197266 - binary_crossentropy: -359.378173828125 - average_precision(0.0): 1.0 - precision@1(0.0): 1.0 - discounted_cumulative_gain@1(0.0): 83394097430627.56 - normalized_discounted_cumulative_gain@1(0.0): 0.3529405352942191 - mean_reciprocal_rank(0.0): 1.0 - mean_average_precision(0.0): 1.0 - average_precision(1): 1.0 - precision@2(2): 0.8017591339648173 - discounted_cumulative_gain@2(0.0): 132424274323746.2 - normalized_discounted_cumulative_gain@3(-1): 0.4662995140052866 - mean_reciprocal_rank(2): 0.8486371544558283 - mean_average_precision(3): 0.7927522529304661\n",
      "Epoch 29/30\n",
      "1168/1168 [==============================] - 5s 4ms/step - loss: 218.4383\n",
      "Validation: binary_accuracy: 0.0 - mse: 216.66697692871094 - mae: 12.75548267364502 - binary_crossentropy: -359.378173828125 - average_precision(0.0): 1.0 - precision@1(0.0): 1.0 - discounted_cumulative_gain@1(0.0): 83394097430627.56 - normalized_discounted_cumulative_gain@1(0.0): 0.3529405352942191 - mean_reciprocal_rank(0.0): 1.0 - mean_average_precision(0.0): 1.0 - average_precision(1): 1.0 - precision@2(2): 0.8017591339648173 - discounted_cumulative_gain@2(0.0): 132424274323746.2 - normalized_discounted_cumulative_gain@3(-1): 0.4662995140052866 - mean_reciprocal_rank(2): 0.8486371544558283 - mean_average_precision(3): 0.7927522529304661\n",
      "Epoch 30/30\n",
      "1168/1168 [==============================] - 5s 4ms/step - loss: 218.4318\n",
      "Validation: binary_accuracy: 0.0 - mse: 216.66636657714844 - mae: 12.75543212890625 - binary_crossentropy: -359.378173828125 - average_precision(0.0): 1.0 - precision@1(0.0): 1.0 - discounted_cumulative_gain@1(0.0): 83394097430627.56 - normalized_discounted_cumulative_gain@1(0.0): 0.3529405352942191 - mean_reciprocal_rank(0.0): 1.0 - mean_average_precision(0.0): 1.0 - average_precision(1): 1.0 - precision@2(2): 0.8017591339648173 - discounted_cumulative_gain@2(0.0): 132424274323746.2 - normalized_discounted_cumulative_gain@3(-1): 0.4662995140052866 - mean_reciprocal_rank(2): 0.8486371544558283 - mean_average_precision(3): 0.7927522529304661\n"
     ]
    }
   ],
   "source": [
    "history = model.fit(x, y, epochs=30, callbacks=[evaluate], workers=30, use_multiprocessing=True)"
   ]
  },
  {
   "cell_type": "code",
   "execution_count": 62,
   "metadata": {},
   "outputs": [],
   "source": [
    "evals = model.evaluate(x=test_x, y=test_y)"
   ]
  },
  {
   "cell_type": "code",
   "execution_count": 63,
   "metadata": {},
   "outputs": [
    {
     "data": {
      "text/plain": [
       "{'binary_accuracy': 0.0,\n",
       " 'mse': 216.66637,\n",
       " 'mae': 12.755432,\n",
       " 'binary_crossentropy': -359.37817,\n",
       " average_precision(0.0): 1.0,\n",
       " precision@1(0.0): 1.0,\n",
       " discounted_cumulative_gain@1(0.0): 83394097430627.56,\n",
       " normalized_discounted_cumulative_gain@1(0.0): 0.3529405352942191,\n",
       " mean_reciprocal_rank(0.0): 1.0,\n",
       " mean_average_precision(0.0): 1.0,\n",
       " average_precision(1): 1.0,\n",
       " precision@2(2): 0.8017591339648173,\n",
       " discounted_cumulative_gain@2(0.0): 132424274323746.2,\n",
       " normalized_discounted_cumulative_gain@3(-1): 0.4662995140052866,\n",
       " mean_reciprocal_rank(2): 0.8486371544558283,\n",
       " mean_average_precision(3): 0.7927522529304661}"
      ]
     },
     "execution_count": 63,
     "metadata": {},
     "output_type": "execute_result"
    }
   ],
   "source": [
    "evals"
   ]
  },
  {
   "cell_type": "markdown",
   "metadata": {},
   "source": [
    "## Save and Load the Model"
   ]
  },
  {
   "cell_type": "code",
   "execution_count": 65,
   "metadata": {
    "ExecuteTime": {
     "end_time": "2019-04-03T09:56:35.125254Z",
     "start_time": "2019-04-03T09:56:29.686705Z"
    }
   },
   "outputs": [],
   "source": [
    "model.save('my-model')\n",
    "loaded_model = mz.load_model('my-model')"
   ]
  }
 ],
 "metadata": {
  "hide_input": false,
  "kernelspec": {
   "display_name": "compbio",
   "language": "python",
   "name": "compbio"
  },
  "language_info": {
   "codemirror_mode": {
    "name": "ipython",
    "version": 3
   },
   "file_extension": ".py",
   "mimetype": "text/x-python",
   "name": "python",
   "nbconvert_exporter": "python",
   "pygments_lexer": "ipython3",
   "version": "3.7.3"
  },
  "toc": {
   "nav_menu": {},
   "number_sections": true,
   "sideBar": true,
   "skip_h1_title": false,
   "toc_cell": false,
   "toc_position": {},
   "toc_section_display": "block",
   "toc_window_display": true
  },
  "varInspector": {
   "cols": {
    "lenName": 16,
    "lenType": 16,
    "lenVar": 40
   },
   "kernels_config": {
    "python": {
     "delete_cmd_postfix": "",
     "delete_cmd_prefix": "del ",
     "library": "var_list.py",
     "varRefreshCmd": "print(var_dic_list())"
    },
    "r": {
     "delete_cmd_postfix": ") ",
     "delete_cmd_prefix": "rm(",
     "library": "var_list.r",
     "varRefreshCmd": "cat(var_dic_list()) "
    }
   },
   "types_to_exclude": [
    "module",
    "function",
    "builtin_function_or_method",
    "instance",
    "_Feature"
   ],
   "window_display": false
  }
 },
 "nbformat": 4,
 "nbformat_minor": 4
}
